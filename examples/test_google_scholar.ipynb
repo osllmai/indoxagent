{
 "cells": [
  {
   "cell_type": "code",
   "execution_count": null,
   "metadata": {},
   "outputs": [],
   "source": [
    "from indoxagent\\tools\\googlescholar.py import GoogleScholarTools\n",
    "\n",
    "# Adding Google Scholar tools to the agent\n",
    "google_scholar_tool = GoogleScholarTools(search_google_scholar=True)\n",
    "agent = Agent(model=model, tools=[google_scholar_tool])\n"
   ]
  }
 ],
 "metadata": {
  "language_info": {
   "name": "python"
  }
 },
 "nbformat": 4,
 "nbformat_minor": 2
}
