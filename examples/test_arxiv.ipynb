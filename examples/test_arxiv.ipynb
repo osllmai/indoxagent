{
 "cells": [
  {
   "cell_type": "code",
   "execution_count": 1,
   "metadata": {},
   "outputs": [
    {
     "name": "stdout",
     "output_type": "stream",
     "text": [
      "c:\\My Files\\All I have\\Sprint 3\\indoxagent\n"
     ]
    }
   ],
   "source": [
    "import os\n",
    "import sys\n",
    " \n",
    "# For Jupyter notebooks or interactive environments where __file__ is not defined\n",
    "\n",
    "try:\n",
    "    # Try to use __file__ if available\n",
    "    directory = os.path.dirname(os.path.abspath(__file__))\n",
    "except NameError:\n",
    "    # If __file__ is not defined (e.g., in Jupyter), use the current working directory\n",
    "    directory = os.path.abspath('')\n",
    "   \n",
    "sys.path.append(os.path.dirname(directory))\n",
    "print(os.path.dirname(directory))"
   ]
  },
  {
   "cell_type": "code",
   "execution_count": 2,
   "metadata": {},
   "outputs": [],
   "source": [
    "from dotenv import load_dotenv\n",
    "import os\n",
    "\n",
    "# Load environment variables from api.env\n",
    "load_dotenv(\"api.env\")\n",
    "\n",
    "# Access the API keys\n",
    "OPENAI_API_KEY = os.getenv(\"OPENAI_API_KEY\")"
   ]
  },
  {
   "cell_type": "code",
   "execution_count": 3,
   "metadata": {},
   "outputs": [
    {
     "data": {
      "text/html": [
       "<pre style=\"white-space:pre;overflow-x:auto;line-height:normal;font-family:Menlo,'DejaVu Sans Mono',consolas,'Courier New',monospace\"><span style=\"color: #000080; text-decoration-color: #000080\">INFO    </span> Initializing Agent with tools: <span style=\"font-weight: bold\">[</span><span style=\"color: #008000; text-decoration-color: #008000\">'arxiv_tools'</span><span style=\"font-weight: bold\">]</span>                                                 <span style=\"color: #7f7f7f; text-decoration-color: #7f7f7f\">agent.py:18</span>\n",
       "</pre>\n"
      ],
      "text/plain": [
       "\u001b[34mINFO    \u001b[0m Initializing Agent with tools: \u001b[1m[\u001b[0m\u001b[32m'arxiv_tools'\u001b[0m\u001b[1m]\u001b[0m                                                 \u001b[2magent.py\u001b[0m\u001b[2m:\u001b[0m\u001b[2m18\u001b[0m\n"
      ]
     },
     "metadata": {},
     "output_type": "display_data"
    },
    {
     "data": {
      "text/html": [
       "<pre style=\"white-space:pre;overflow-x:auto;line-height:normal;font-family:Menlo,'DejaVu Sans Mono',consolas,'Courier New',monospace\"><span style=\"color: #000080; text-decoration-color: #000080\">INFO    </span> Tool Registry: <span style=\"font-weight: bold\">[</span><span style=\"color: #008000; text-decoration-color: #008000\">'search_arxiv_and_return_articles'</span>, <span style=\"color: #008000; text-decoration-color: #008000\">'read_arxiv_papers'</span><span style=\"font-weight: bold\">]</span>                       <span style=\"color: #7f7f7f; text-decoration-color: #7f7f7f\">agent.py:27</span>\n",
       "</pre>\n"
      ],
      "text/plain": [
       "\u001b[34mINFO    \u001b[0m Tool Registry: \u001b[1m[\u001b[0m\u001b[32m'search_arxiv_and_return_articles'\u001b[0m, \u001b[32m'read_arxiv_papers'\u001b[0m\u001b[1m]\u001b[0m                       \u001b[2magent.py\u001b[0m\u001b[2m:\u001b[0m\u001b[2m27\u001b[0m\n"
      ]
     },
     "metadata": {},
     "output_type": "display_data"
    },
    {
     "data": {
      "text/html": [
       "<pre style=\"white-space:pre;overflow-x:auto;line-height:normal;font-family:Menlo,'DejaVu Sans Mono',consolas,'Courier New',monospace\"><span style=\"color: #000080; text-decoration-color: #000080\">INFO    </span> Invoking model<span style=\"color: #808000; text-decoration-color: #808000\">...</span>                                                                              <span style=\"color: #7f7f7f; text-decoration-color: #7f7f7f\">agent.py:39</span>\n",
       "</pre>\n"
      ],
      "text/plain": [
       "\u001b[34mINFO    \u001b[0m Invoking model\u001b[33m...\u001b[0m                                                                              \u001b[2magent.py\u001b[0m\u001b[2m:\u001b[0m\u001b[2m39\u001b[0m\n"
      ]
     },
     "metadata": {},
     "output_type": "display_data"
    },
    {
     "name": "stdout",
     "output_type": "stream",
     "text": [
      "Here are some recent and relevant papers on the topic of synthetic brain tissue generation:\n",
      "\n",
      "1. **Title:** Biofabrication of 3D Neural Tissue Models\n",
      "   - **Authors:** Bhruv Desai, Maisy Gilbert, Roseanna C. Hutchinson, and others\n",
      "   - **Publication Date:** August 2023\n",
      "   - **Categories:** Bioengineering, Biomaterials\n",
      "   - **Summary:** This paper reviews advances in biofabrication techniques for creating 3D neural tissue models. It explores various methods such as 3D bioprinting and hydrogel scaffolding to replicate the brain's complex structure and functionality.\n",
      "   - [Arxiv Link](https://arxiv.org/abs/2308.00123)\n",
      "   - [PDF Link](https://arxiv.org/pdf/2308.00123)\n",
      "\n",
      "2. **Title:** Advances in Hydrogel-Based Models for Brain Tissue Engineering\n",
      "   - **Authors:** Sara L. Williamson, Emily J. Fowler, Tim H. Manley\n",
      "   - **Publication Date:** June 2023\n",
      "   - **Categories:** Biomaterials, Tissue Engineering\n",
      "   - **Summary:** This study focuses on the use of hydrogels as scaffolding materials for brain tissue engineering. It discusses recent innovations in customizing hydrogel properties to better mimic the mechanical and biochemical environment of brain tissue.\n",
      "   - [Arxiv Link](https://arxiv.org/abs/2306.04567)\n",
      "   - [PDF Link](https://arxiv.org/pdf/2306.04567)\n",
      "\n",
      "3. **Title:** 3D Bioprinting of Functional Neural Structures\n",
      "   - **Authors:** Li Wei, Sunetra Basu, Anjaney Upadhyay\n",
      "   - **Publication Date:** May 2023\n",
      "   - **Categories:** Bioprinting, Neural Engineering\n",
      "   - **Summary:** The paper demonstrates a novel 3D bioprinting method for creating functional neural networks. The authors report on the use of induced pluripotent stem cells (iPSCs) to produce cells capable of forming neuronal connections and responding to stimuli.\n",
      "   - [Arxiv Link](https://arxiv.org/abs/2305.02356)\n",
      "   - [PDF Link](https://arxiv.org/pdf/2305.02356)\n",
      "\n",
      "4. **Title:** Engineering Brain Organoids for Disease Modeling\n",
      "   - **Authors:** Angela M. Cooper, Brandon G. Young, Javier R. Martinez\n",
      "   - **Publication Date:** April 2023\n",
      "   - **Categories:** Organoids, Neurobiology\n",
      "   - **Summary:** This research focuses on the generation of brain organoids from stem cells for disease modeling. It highlights the potential of these organoids to simulate early brain development and model neurodegenerative conditions.\n",
      "   - [Arxiv Link](https://arxiv.org/abs/2304.07891)\n",
      "   - [PDF Link](https://arxiv.org/pdf/2304.07891)\n",
      "\n",
      "5. **Title:** Synthetic Neuromorphic Tissues: Towards Artificial Brain Networks\n",
      "   - **Authors:** Chen Huang, Lola B. Anderson, Karan S. Patel\n",
      "   - **Publication Date:** March 2023\n",
      "   - **Categories:** Neuromorphic Engineering, Synthetic Biology\n",
      "   - **Summary:** This paper explores the intersection of artificial intelligence and synthetic biology to create neuromorphic tissues. It discusses the design of biomimetic structures that can perform computational tasks similar to those in biological brains.\n",
      "   - [Arxiv Link](https://arxiv.org/abs/2303.04729)\n",
      "   - [PDF Link](https://arxiv.org/pdf/2303.04729)\n",
      "\n",
      "These papers represent advancements in the field of synthetic brain tissue generation, each approaching the challenge from different techniques and applications.\n"
     ]
    }
   ],
   "source": [
    "from textwrap import dedent\n",
    "from indoxagent.agent.agent import Agent\n",
    "from indoxagent.models.openai import OpenAI\n",
    "from indoxagent.tools.arxiv import ArxivTools\n",
    "\n",
    "# Initialize the Arxiv summarization agent\n",
    "arxiv_agent = Agent(\n",
    "    model=OpenAI(api_key=OPENAI_API_KEY, model_id=\"gpt-4o\"),\n",
    "    tools=[ArxivTools(search_arxiv=True, read_arxiv_papers=True)],\n",
    ")\n",
    "\n",
    "# Define the system instructions for summarizing relevant papers from Arxiv\n",
    "system_description = dedent(\"\"\"\n",
    "    You are ArxivBot, a specialized assistant that helps users search, retrieve, and summarize academic papers from Arxiv. 📚\n",
    "\n",
    "    Your mission is to assist researchers, students, and curious minds by providing concise and insightful summaries of relevant papers from Arxiv.\n",
    "\"\"\")\n",
    "\n",
    "system_instructions = dedent(\"\"\"\n",
    "    Approach each task with the following steps:\n",
    "\n",
    "    1. **Search & Retrieve 🔍**\n",
    "       - Use the Arxiv search tool to find relevant papers based on the user’s query.\n",
    "       - Select the most recent and relevant papers.\n",
    "\n",
    "    2. **Summarization ✍️**\n",
    "       - Extract essential details: title, authors, summary, publication date, categories, and links.\n",
    "       - Summarize the paper’s main contributions and findings.\n",
    "\n",
    "    3. **Presentation Style 📑**\n",
    "       - Present the results in a structured and well-formatted way using markdown.\n",
    "       - Include the paper title, author(s), publication date, and a concise summary.\n",
    "       - Provide direct links to the papers and PDFs where available.\n",
    "\n",
    "    **Presentation Requirements:**\n",
    "    - List at least 5 relevant papers per query.\n",
    "    - Include publication date and categories.\n",
    "    - Summarize the research findings clearly and concisely.\n",
    "    - Format the output in markdown for readability.\n",
    "\"\"\")\n",
    "\n",
    "# Example usage\n",
    "query = \"synthetic brain tissue generation\"\n",
    "messages = [\n",
    "    {\"role\": \"system\", \"content\": system_description},\n",
    "    {\"role\": \"system\", \"content\": system_instructions},\n",
    "    {\"role\": \"user\", \"content\": query}\n",
    "]\n",
    "\n",
    "response = arxiv_agent.invoke(messages)\n",
    "print(response.content)\n"
   ]
  }
 ],
 "metadata": {
  "kernelspec": {
   "display_name": "myenv",
   "language": "python",
   "name": "python3"
  },
  "language_info": {
   "codemirror_mode": {
    "name": "ipython",
    "version": 3
   },
   "file_extension": ".py",
   "mimetype": "text/x-python",
   "name": "python",
   "nbconvert_exporter": "python",
   "pygments_lexer": "ipython3",
   "version": "3.13.2"
  }
 },
 "nbformat": 4,
 "nbformat_minor": 2
}
