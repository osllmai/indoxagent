{
 "cells": [
  {
   "cell_type": "code",
   "execution_count": 1,
   "metadata": {},
   "outputs": [
    {
     "name": "stdout",
     "output_type": "stream",
     "text": [
      "c:\\My Files\\All I have\\Sprint 3\\indoxagent\n"
     ]
    }
   ],
   "source": [
    "import os\n",
    "import sys\n",
    " \n",
    "# For Jupyter notebooks or interactive environments where __file__ is not defined\n",
    "\n",
    "try:\n",
    "    # Try to use __file__ if available\n",
    "    directory = os.path.dirname(os.path.abspath(__file__))\n",
    "except NameError:\n",
    "    # If __file__ is not defined (e.g., in Jupyter), use the current working directory\n",
    "    directory = os.path.abspath('')\n",
    "   \n",
    "sys.path.append(os.path.dirname(directory))\n",
    "print(os.path.dirname(directory))"
   ]
  },
  {
   "cell_type": "code",
   "execution_count": 2,
   "metadata": {},
   "outputs": [],
   "source": [
    "from dotenv import load_dotenv\n",
    "import os\n",
    "\n",
    "# Load environment variables from api.env\n",
    "load_dotenv(\"api.env\")\n",
    "\n",
    "# Access the API keys\n",
    "OPENAI_API_KEY = os.getenv(\"OPENAI_API_KEY\")"
   ]
  },
  {
   "cell_type": "code",
   "execution_count": 4,
   "metadata": {},
   "outputs": [
    {
     "name": "stdout",
     "output_type": "stream",
     "text": [
      "Collecting Bio\n",
      "  Downloading bio-1.7.1-py3-none-any.whl.metadata (5.7 kB)\n",
      "Collecting biopython>=1.80 (from Bio)\n",
      "  Downloading biopython-1.85-cp313-cp313-win_amd64.whl.metadata (13 kB)\n",
      "Collecting gprofiler-official (from Bio)\n",
      "  Downloading gprofiler_official-1.0.0-py3-none-any.whl.metadata (11 kB)\n",
      "Collecting mygene (from Bio)\n",
      "  Downloading mygene-3.2.2-py2.py3-none-any.whl.metadata (10 kB)\n",
      "Collecting pandas (from Bio)\n",
      "  Downloading pandas-2.2.3-cp313-cp313-win_amd64.whl.metadata (19 kB)\n",
      "Collecting pooch (from Bio)\n",
      "  Downloading pooch-1.8.2-py3-none-any.whl.metadata (10 kB)\n",
      "Requirement already satisfied: requests in c:\\my files\\all i have\\sprint 3\\indoxagent\\myenv\\lib\\site-packages (from Bio) (2.32.3)\n",
      "Requirement already satisfied: tqdm in c:\\my files\\all i have\\sprint 3\\indoxagent\\myenv\\lib\\site-packages (from Bio) (4.67.1)\n",
      "Collecting numpy (from biopython>=1.80->Bio)\n",
      "  Downloading numpy-2.2.4-cp313-cp313-win_amd64.whl.metadata (60 kB)\n",
      "Collecting biothings-client>=0.2.6 (from mygene->Bio)\n",
      "  Downloading biothings_client-0.4.1-py3-none-any.whl.metadata (10 kB)\n",
      "Requirement already satisfied: python-dateutil>=2.8.2 in c:\\my files\\all i have\\sprint 3\\indoxagent\\myenv\\lib\\site-packages (from pandas->Bio) (2.9.0.post0)\n",
      "Collecting pytz>=2020.1 (from pandas->Bio)\n",
      "  Downloading pytz-2025.1-py2.py3-none-any.whl.metadata (22 kB)\n",
      "Collecting tzdata>=2022.7 (from pandas->Bio)\n",
      "  Downloading tzdata-2025.1-py2.py3-none-any.whl.metadata (1.4 kB)\n",
      "Requirement already satisfied: platformdirs>=2.5.0 in c:\\my files\\all i have\\sprint 3\\indoxagent\\myenv\\lib\\site-packages (from pooch->Bio) (4.3.6)\n",
      "Requirement already satisfied: packaging>=20.0 in c:\\my files\\all i have\\sprint 3\\indoxagent\\myenv\\lib\\site-packages (from pooch->Bio) (24.2)\n",
      "Requirement already satisfied: charset-normalizer<4,>=2 in c:\\my files\\all i have\\sprint 3\\indoxagent\\myenv\\lib\\site-packages (from requests->Bio) (3.4.1)\n",
      "Requirement already satisfied: idna<4,>=2.5 in c:\\my files\\all i have\\sprint 3\\indoxagent\\myenv\\lib\\site-packages (from requests->Bio) (3.10)\n",
      "Requirement already satisfied: urllib3<3,>=1.21.1 in c:\\my files\\all i have\\sprint 3\\indoxagent\\myenv\\lib\\site-packages (from requests->Bio) (2.3.0)\n",
      "Requirement already satisfied: certifi>=2017.4.17 in c:\\my files\\all i have\\sprint 3\\indoxagent\\myenv\\lib\\site-packages (from requests->Bio) (2025.1.31)\n",
      "Requirement already satisfied: colorama in c:\\my files\\all i have\\sprint 3\\indoxagent\\myenv\\lib\\site-packages (from tqdm->Bio) (0.4.6)\n",
      "Requirement already satisfied: httpx>=0.22.0 in c:\\my files\\all i have\\sprint 3\\indoxagent\\myenv\\lib\\site-packages (from biothings-client>=0.2.6->mygene->Bio) (0.28.1)\n",
      "Requirement already satisfied: six>=1.5 in c:\\my files\\all i have\\sprint 3\\indoxagent\\myenv\\lib\\site-packages (from python-dateutil>=2.8.2->pandas->Bio) (1.17.0)\n",
      "Requirement already satisfied: anyio in c:\\my files\\all i have\\sprint 3\\indoxagent\\myenv\\lib\\site-packages (from httpx>=0.22.0->biothings-client>=0.2.6->mygene->Bio) (4.8.0)\n",
      "Requirement already satisfied: httpcore==1.* in c:\\my files\\all i have\\sprint 3\\indoxagent\\myenv\\lib\\site-packages (from httpx>=0.22.0->biothings-client>=0.2.6->mygene->Bio) (1.0.7)\n",
      "Requirement already satisfied: h11<0.15,>=0.13 in c:\\my files\\all i have\\sprint 3\\indoxagent\\myenv\\lib\\site-packages (from httpcore==1.*->httpx>=0.22.0->biothings-client>=0.2.6->mygene->Bio) (0.14.0)\n",
      "Requirement already satisfied: sniffio>=1.1 in c:\\my files\\all i have\\sprint 3\\indoxagent\\myenv\\lib\\site-packages (from anyio->httpx>=0.22.0->biothings-client>=0.2.6->mygene->Bio) (1.3.1)\n",
      "Downloading bio-1.7.1-py3-none-any.whl (280 kB)\n",
      "Downloading biopython-1.85-cp313-cp313-win_amd64.whl (2.8 MB)\n",
      "   ---------------------------------------- 0.0/2.8 MB ? eta -:--:--\n",
      "   --- ------------------------------------ 0.3/2.8 MB ? eta -:--:--\n",
      "   ---------------------- ----------------- 1.6/2.8 MB 4.8 MB/s eta 0:00:01\n",
      "   --------------------------------- ------ 2.4/2.8 MB 4.3 MB/s eta 0:00:01\n",
      "   ------------------------------------- -- 2.6/2.8 MB 4.6 MB/s eta 0:00:01\n",
      "   ---------------------------------------- 2.8/2.8 MB 3.6 MB/s eta 0:00:00\n",
      "Downloading gprofiler_official-1.0.0-py3-none-any.whl (9.3 kB)\n",
      "Downloading mygene-3.2.2-py2.py3-none-any.whl (5.4 kB)\n",
      "Downloading pandas-2.2.3-cp313-cp313-win_amd64.whl (11.5 MB)\n",
      "   ---------------------------------------- 0.0/11.5 MB ? eta -:--:--\n",
      "   - -------------------------------------- 0.5/11.5 MB 4.8 MB/s eta 0:00:03\n",
      "   --- ------------------------------------ 1.0/11.5 MB 2.3 MB/s eta 0:00:05\n",
      "   ------- -------------------------------- 2.1/11.5 MB 3.3 MB/s eta 0:00:03\n",
      "   ---------- ----------------------------- 3.1/11.5 MB 3.8 MB/s eta 0:00:03\n",
      "   -------------- ------------------------- 4.2/11.5 MB 4.1 MB/s eta 0:00:02\n",
      "   ------------------ --------------------- 5.2/11.5 MB 4.3 MB/s eta 0:00:02\n",
      "   ------------------- -------------------- 5.5/11.5 MB 4.0 MB/s eta 0:00:02\n",
      "   ------------------- -------------------- 5.5/11.5 MB 4.0 MB/s eta 0:00:02\n",
      "   ---------------------- ----------------- 6.6/11.5 MB 3.4 MB/s eta 0:00:02\n",
      "   -------------------------- ------------- 7.6/11.5 MB 3.6 MB/s eta 0:00:02\n",
      "   ------------------------------ --------- 8.7/11.5 MB 3.7 MB/s eta 0:00:01\n",
      "   --------------------------------- ------ 9.7/11.5 MB 3.9 MB/s eta 0:00:01\n",
      "   ------------------------------------- -- 10.7/11.5 MB 4.0 MB/s eta 0:00:01\n",
      "   ---------------------------------------- 11.5/11.5 MB 4.0 MB/s eta 0:00:00\n",
      "Downloading pooch-1.8.2-py3-none-any.whl (64 kB)\n",
      "Downloading biothings_client-0.4.1-py3-none-any.whl (46 kB)\n",
      "Downloading numpy-2.2.4-cp313-cp313-win_amd64.whl (12.6 MB)\n",
      "   ---------------------------------------- 0.0/12.6 MB ? eta -:--:--\n",
      "   ---------------------------------------- 0.0/12.6 MB ? eta -:--:--\n",
      "   --- ------------------------------------ 1.0/12.6 MB 5.4 MB/s eta 0:00:03\n",
      "   ------ --------------------------------- 2.1/12.6 MB 5.4 MB/s eta 0:00:02\n",
      "   --------- ------------------------------ 2.9/12.6 MB 5.1 MB/s eta 0:00:02\n",
      "   --------- ------------------------------ 2.9/12.6 MB 5.1 MB/s eta 0:00:02\n",
      "   --------- ------------------------------ 3.1/12.6 MB 3.2 MB/s eta 0:00:03\n",
      "   --------- ------------------------------ 3.1/12.6 MB 3.2 MB/s eta 0:00:03\n",
      "   ----------- ---------------------------- 3.7/12.6 MB 2.7 MB/s eta 0:00:04\n",
      "   ----------- ---------------------------- 3.7/12.6 MB 2.7 MB/s eta 0:00:04\n",
      "   ------------ --------------------------- 3.9/12.6 MB 2.2 MB/s eta 0:00:04\n",
      "   ------------- -------------------------- 4.2/12.6 MB 2.0 MB/s eta 0:00:05\n",
      "   -------------- ------------------------- 4.7/12.6 MB 2.0 MB/s eta 0:00:04\n",
      "   ---------------- ----------------------- 5.2/12.6 MB 2.1 MB/s eta 0:00:04\n",
      "   ------------------- -------------------- 6.3/12.6 MB 2.3 MB/s eta 0:00:03\n",
      "   ------------------------ --------------- 7.6/12.6 MB 2.5 MB/s eta 0:00:02\n",
      "   --------------------------- ------------ 8.7/12.6 MB 2.7 MB/s eta 0:00:02\n",
      "   ------------------------------ --------- 9.7/12.6 MB 2.9 MB/s eta 0:00:02\n",
      "   ---------------------------------- ----- 10.7/12.6 MB 3.0 MB/s eta 0:00:01\n",
      "   ------------------------------------- -- 11.8/12.6 MB 3.1 MB/s eta 0:00:01\n",
      "   ---------------------------------------  12.6/12.6 MB 3.2 MB/s eta 0:00:01\n",
      "   ---------------------------------------- 12.6/12.6 MB 2.9 MB/s eta 0:00:00\n",
      "Downloading pytz-2025.1-py2.py3-none-any.whl (507 kB)\n",
      "Downloading tzdata-2025.1-py2.py3-none-any.whl (346 kB)\n",
      "Installing collected packages: pytz, tzdata, numpy, pooch, pandas, gprofiler-official, biopython, biothings-client, mygene, Bio\n",
      "Successfully installed Bio-1.7.1 biopython-1.85 biothings-client-0.4.1 gprofiler-official-1.0.0 mygene-3.2.2 numpy-2.2.4 pandas-2.2.3 pooch-1.8.2 pytz-2025.1 tzdata-2025.1\n",
      "Note: you may need to restart the kernel to use updated packages.\n"
     ]
    },
    {
     "name": "stderr",
     "output_type": "stream",
     "text": [
      "\n",
      "[notice] A new release of pip is available: 24.3.1 -> 25.0.1\n",
      "[notice] To update, run: python.exe -m pip install --upgrade pip\n"
     ]
    }
   ],
   "source": [
    "%pip install Bio"
   ]
  },
  {
   "cell_type": "code",
   "execution_count": null,
   "metadata": {},
   "outputs": [
    {
     "name": "stdout",
     "output_type": "stream",
     "text": [
      "\u001b[34mINFO    \u001b[0m Initializing Agent with tools: \u001b[1m[\u001b[0m\u001b[32m'pubmed_tools'\u001b[0m\u001b[1m]\u001b[0m            \u001b[2magent.py\u001b[0m\u001b[2m:\u001b[0m\u001b[2m18\u001b[0m\n",
      "\u001b[34mINFO    \u001b[0m Tool Registry: \u001b[1m[\u001b[0m\u001b[32m'search_pubmed_and_return_articles'\u001b[0m\u001b[1m]\u001b[0m       \u001b[2magent.py\u001b[0m\u001b[2m:\u001b[0m\u001b[2m27\u001b[0m\n",
      "\u001b[34mINFO    \u001b[0m Invoking model\u001b[33m...\u001b[0m                                          \u001b[2magent.py\u001b[0m\u001b[2m:\u001b[0m\u001b[2m39\u001b[0m\n",
      "Deep learning has become an increasingly prominent tool in the field of radiology, offering advancements in image analysis, diagnostic accuracy, and workflow efficiency. Here are some key areas where deep learning is being applied in radiology:\n",
      "\n",
      "1. **Image Segmentation**: Deep learning models are used to delineate anatomical structures and pathological findings in medical images, such as tumors, organs, and fractures. Convolutional Neural Networks (CNNs), particularly U-Net, are commonly used architectures for these tasks.\n",
      "\n",
      "2. **Lesion Detection and Classification**: Deep learning algorithms help in automatically detecting and classifying lesions in medical images such as X-rays, CT scans, and MRIs. These systems aim to assist radiologists in diagnosing diseases like cancer, fractures, or other anomalies.\n",
      "\n",
      "3. **Computer-Aided Diagnosis (CAD)**: AI systems provide a second opinion to radiologists by analyzing images for the presence of disease, helping in early detection and diagnosis.\n",
      "\n",
      "4. **Workflow Optimization**: AI tools integrated into radiological workflows can prioritize cases based on urgency, reducing the time to diagnosis and improving the handling of large imaging volumes.\n",
      "\n",
      "5. **Image Reconstruction and Enhancement**: Deep learning methods are used for enhancing image quality, such as reducing noise in low-dose imaging and reconstructing images from incomplete data.\n",
      "\n",
      "6. **Prognostication and Treatment Response**: AI models analyze imaging data to predict patient outcomes and monitor treatment responses, aiding in personalized medicine.\n",
      "\n",
      "7. **Educational Tools**: Deep learning platforms are developed to train radiology residents and practitioners by simulating diagnostic scenarios and providing instant feedback.\n",
      "\n",
      "For recent studies and reviews on these topics, you can search PubMed using keywords such as \"deep learning in radiology,\" \"deep learning medical imaging,\" or specific modalities like \"deep learning CT\" or \"deep learning MRI.\" This will yield a variety of papers discussing innovations, implementations, and evaluations of deep learning techniques in radiology practice.\n"
     ]
    }
   ],
   "source": [
    "from indoxagent.agent.agent import Agent\n",
    "from indoxagent.models.openai import OpenAI\n",
    "from indoxagent.tools.pubmed import PubMedTools  # Import PubMedTools\n",
    "\n",
    "# Define your email and API key\n",
    "PUBMED_EMAIL = \"research-team@yourcompany.com\"  # Required\n",
    "PUBMED_API_KEY = \"your-ncbi-api-key\"  # Optional (for increased rate limits)\n",
    "\n",
    "# Initialize the agent with PubMedTools\n",
    "pubmed_agent = Agent(\n",
    "    model=OpenAI(api_key=OPENAI_API_KEY, model_id=\"gpt-4o\"),\n",
    "    tools=[PubMedTools(search_pubmed=True, email=PUBMED_EMAIL, api_key=PUBMED_API_KEY)],  # API key is optional\n",
    ")\n",
    "\n",
    "# Example query\n",
    "query = \"deep learning in radiology\"\n",
    "messages = [\n",
    "    {\"role\": \"system\", \"content\": \"You are an AI assistant helping researchers find PubMed papers.\"},\n",
    "    {\"role\": \"user\", \"content\": query}\n",
    "]\n",
    "\n",
    "# Invoke the agent\n",
    "response = pubmed_agent.invoke(messages)\n",
    "print(response.content)\n"
   ]
  }
 ],
 "metadata": {
  "kernelspec": {
   "display_name": "myenv",
   "language": "python",
   "name": "python3"
  },
  "language_info": {
   "codemirror_mode": {
    "name": "ipython",
    "version": 3
   },
   "file_extension": ".py",
   "mimetype": "text/x-python",
   "name": "python",
   "nbconvert_exporter": "python",
   "pygments_lexer": "ipython3",
   "version": "3.13.2"
  }
 },
 "nbformat": 4,
 "nbformat_minor": 2
}
