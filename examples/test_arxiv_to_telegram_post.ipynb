{
  "cells": [
    {
      "cell_type": "code",
      "execution_count": 1,
      "metadata": {
        "id": "K3wXTGiMPFMb"
      },
      "outputs": [
        {
          "name": "stdout",
          "output_type": "stream",
          "text": [
            "c:\\Users\\mobin\\indoxagent\\indoxagent\n"
          ]
        }
      ],
      "source": [
        "import os\n",
        "import sys\n",
        "\n",
        "# For Jupyter notebooks or interactive environments where __file__ is not defined\n",
        "try:\n",
        "    # Try to use __file__ if available\n",
        "    directory = os.path.dirname(os.path.abspath(__file__))\n",
        "except NameError:\n",
        "    # If __file__ is not defined (e.g., in Jupyter), use the current working directory\n",
        "    directory = os.path.abspath('')\n",
        "\n",
        "sys.path.append(os.path.dirname(directory))\n",
        "print(os.path.dirname(directory))"
      ]
    },
    {
      "cell_type": "code",
      "execution_count": null,
      "metadata": {},
      "outputs": [],
      "source": [
        "pip uninstall telegram -y"
      ]
    },
    {
      "cell_type": "code",
      "execution_count": null,
      "metadata": {},
      "outputs": [],
      "source": [
        "pip install python-telegram-bot --upgrade"
      ]
    },
    {
      "cell_type": "code",
      "execution_count": 3,
      "metadata": {},
      "outputs": [
        {
          "name": "stdout",
          "output_type": "stream",
          "text": [
            "Collecting dotenv\n",
            "  Downloading dotenv-0.9.9-py2.py3-none-any.whl.metadata (279 bytes)\n",
            "Collecting python-dotenv (from dotenv)\n",
            "  Downloading python_dotenv-1.0.1-py3-none-any.whl.metadata (23 kB)\n",
            "Downloading dotenv-0.9.9-py2.py3-none-any.whl (1.9 kB)\n",
            "Downloading python_dotenv-1.0.1-py3-none-any.whl (19 kB)\n",
            "Installing collected packages: python-dotenv, dotenv\n",
            "Successfully installed dotenv-0.9.9 python-dotenv-1.0.1\n",
            "Note: you may need to restart the kernel to use updated packages.\n"
          ]
        },
        {
          "name": "stderr",
          "output_type": "stream",
          "text": [
            "  WARNING: The script dotenv.exe is installed in 'c:\\Users\\mobin\\AppData\\Local\\Programs\\Python\\Python312\\Scripts' which is not on PATH.\n",
            "  Consider adding this directory to PATH or, if you prefer to suppress this warning, use --no-warn-script-location.\n",
            "\n",
            "[notice] A new release of pip is available: 24.0 -> 25.0.1\n",
            "[notice] To update, run: python.exe -m pip install --upgrade pip\n"
          ]
        }
      ],
      "source": [
        "pip install dotenv"
      ]
    },
    {
      "cell_type": "code",
      "execution_count": null,
      "metadata": {},
      "outputs": [],
      "source": [
        "from dotenv import load_dotenv\n",
        "import os\n",
        "\n",
        "# Load environment variables from api.env\n",
        "load_dotenv(\"api.env\")\n",
        "\n",
        "\n",
        "# Access the API keys\n",
        "OPENAI_API_KEY = os.getenv(\"OPENAI_API_KEY\")\n",
        "Telegram_Bot_Token = os.getenv(\"Telegram_Bot_Token\")\n",
        "Telegram_Channel_ID = os.getenv(\"Telegram_Channel_ID\")"
      ]
    },
    {
      "cell_type": "code",
      "execution_count": 8,
      "metadata": {
        "id": "Q4UFHu8sPZXO"
      },
      "outputs": [
        {
          "data": {
            "text/html": [
              "<pre style=\"white-space:pre;overflow-x:auto;line-height:normal;font-family:Menlo,'DejaVu Sans Mono',consolas,'Courier New',monospace\"><span style=\"color: #000080; text-decoration-color: #000080\">INFO    </span> Initializing Agent with tools: <span style=\"font-weight: bold\">[</span><span style=\"color: #008000; text-decoration-color: #008000\">'ArxivTool'</span>, <span style=\"color: #008000; text-decoration-color: #008000\">'TelegramTool'</span><span style=\"font-weight: bold\">]</span>                                   <a href=\"file://c:\\Users\\mobin\\indoxagent\\indoxagent\\indoxagent\\agent\\agent.py\" target=\"_blank\"><span style=\"color: #7f7f7f; text-decoration-color: #7f7f7f\">agent.py</span></a><span style=\"color: #7f7f7f; text-decoration-color: #7f7f7f\">:</span><a href=\"file://c:\\Users\\mobin\\indoxagent\\indoxagent\\indoxagent\\agent\\agent.py#18\" target=\"_blank\"><span style=\"color: #7f7f7f; text-decoration-color: #7f7f7f\">18</span></a>\n",
              "</pre>\n"
            ],
            "text/plain": [
              "\u001b[34mINFO    \u001b[0m Initializing Agent with tools: \u001b[1m[\u001b[0m\u001b[32m'ArxivTool'\u001b[0m, \u001b[32m'TelegramTool'\u001b[0m\u001b[1m]\u001b[0m                                   \u001b]8;id=242755;file://c:\\Users\\mobin\\indoxagent\\indoxagent\\indoxagent\\agent\\agent.py\u001b\\\u001b[2magent.py\u001b[0m\u001b]8;;\u001b\\\u001b[2m:\u001b[0m\u001b]8;id=288941;file://c:\\Users\\mobin\\indoxagent\\indoxagent\\indoxagent\\agent\\agent.py#18\u001b\\\u001b[2m18\u001b[0m\u001b]8;;\u001b\\\n"
            ]
          },
          "metadata": {},
          "output_type": "display_data"
        },
        {
          "data": {
            "text/html": [
              "<pre style=\"white-space:pre;overflow-x:auto;line-height:normal;font-family:Menlo,'DejaVu Sans Mono',consolas,'Courier New',monospace\"><span style=\"color: #000080; text-decoration-color: #000080\">INFO    </span> Tool Registry: <span style=\"font-weight: bold\">[</span><span style=\"color: #008000; text-decoration-color: #008000\">'search_papers'</span>, <span style=\"color: #008000; text-decoration-color: #008000\">'send_message'</span><span style=\"font-weight: bold\">]</span>                                               <a href=\"file://c:\\Users\\mobin\\indoxagent\\indoxagent\\indoxagent\\agent\\agent.py\" target=\"_blank\"><span style=\"color: #7f7f7f; text-decoration-color: #7f7f7f\">agent.py</span></a><span style=\"color: #7f7f7f; text-decoration-color: #7f7f7f\">:</span><a href=\"file://c:\\Users\\mobin\\indoxagent\\indoxagent\\indoxagent\\agent\\agent.py#27\" target=\"_blank\"><span style=\"color: #7f7f7f; text-decoration-color: #7f7f7f\">27</span></a>\n",
              "</pre>\n"
            ],
            "text/plain": [
              "\u001b[34mINFO    \u001b[0m Tool Registry: \u001b[1m[\u001b[0m\u001b[32m'search_papers'\u001b[0m, \u001b[32m'send_message'\u001b[0m\u001b[1m]\u001b[0m                                               \u001b]8;id=844408;file://c:\\Users\\mobin\\indoxagent\\indoxagent\\indoxagent\\agent\\agent.py\u001b\\\u001b[2magent.py\u001b[0m\u001b]8;;\u001b\\\u001b[2m:\u001b[0m\u001b]8;id=917717;file://c:\\Users\\mobin\\indoxagent\\indoxagent\\indoxagent\\agent\\agent.py#27\u001b\\\u001b[2m27\u001b[0m\u001b]8;;\u001b\\\n"
            ]
          },
          "metadata": {},
          "output_type": "display_data"
        },
        {
          "data": {
            "text/html": [
              "<pre style=\"white-space:pre;overflow-x:auto;line-height:normal;font-family:Menlo,'DejaVu Sans Mono',consolas,'Courier New',monospace\"><span style=\"color: #000080; text-decoration-color: #000080\">INFO    </span> Invoking model<span style=\"color: #808000; text-decoration-color: #808000\">...</span>                                                                              <a href=\"file://c:\\Users\\mobin\\indoxagent\\indoxagent\\indoxagent\\agent\\agent.py\" target=\"_blank\"><span style=\"color: #7f7f7f; text-decoration-color: #7f7f7f\">agent.py</span></a><span style=\"color: #7f7f7f; text-decoration-color: #7f7f7f\">:</span><a href=\"file://c:\\Users\\mobin\\indoxagent\\indoxagent\\indoxagent\\agent\\agent.py#39\" target=\"_blank\"><span style=\"color: #7f7f7f; text-decoration-color: #7f7f7f\">39</span></a>\n",
              "</pre>\n"
            ],
            "text/plain": [
              "\u001b[34mINFO    \u001b[0m Invoking model\u001b[33m...\u001b[0m                                                                              \u001b]8;id=964922;file://c:\\Users\\mobin\\indoxagent\\indoxagent\\indoxagent\\agent\\agent.py\u001b\\\u001b[2magent.py\u001b[0m\u001b]8;;\u001b\\\u001b[2m:\u001b[0m\u001b]8;id=72916;file://c:\\Users\\mobin\\indoxagent\\indoxagent\\indoxagent\\agent\\agent.py#39\u001b\\\u001b[2m39\u001b[0m\u001b]8;;\u001b\\\n"
            ]
          },
          "metadata": {},
          "output_type": "display_data"
        }
      ],
      "source": [
        "import json\n",
        "from indoxagent.agent.agent import Agent\n",
        "from indoxagent.models.openai import OpenAI\n",
        "from indoxagent.tools.arxiv import ArxivTool\n",
        "from indoxagent.tools.tel import TelegramTool\n",
        "from textwrap import dedent\n",
        "import asyncio\n",
        "import schedule\n",
        "import time\n",
        "\n",
        "# Initialize the AI agent with OpenAI and Arxiv tool\n",
        "agent = Agent(\n",
        "    model=OpenAI(api_key=OPENAI_API_KEY, model_id=\"gpt-4o\"),\n",
        "    tools=[ArxivTool(max_results=3), \n",
        "           TelegramTool(bot_token=Telegram_Bot_Token, \n",
        "                        channel_id=Telegram_Channel_ID)])\n",
        "\n",
        "# # Define the system instructions\n",
        "system_description = dedent(\"\"\"\n",
        "        You are an AI research assistant that finds the latest papers on arXiv related to a given topic.\n",
        "        You summarize the key insights and present them concisely for easy reading.\n",
        "\"\"\")\n",
        "\n",
        "system_instructions = dedent(\"\"\"\n",
        "    - Search for recent papers on arXiv using the provided query.\n",
        "    - Extract the paper title, summary, and URL.\n",
        "    - Summarize the key insights from the abstracts in a concise and informative way.\n",
        "    - Present the summary in a structured format with bullet points and links to the papers.\n",
        "\"\"\")\n",
        "\n",
        "\n",
        "# Define the search query\n",
        "query = \"Artificial Intelligence in Healthcare\"\n",
        "\n",
        "# Create the input messages\n",
        "messages = [\n",
        "    {\"role\": \"system\", \"content\": system_description},\n",
        "    {\"role\": \"system\", \"content\": system_instructions},\n",
        "    {\"role\": \"user\", \"content\": query}\n",
        "]\n",
        "\n",
        "# Invoke the agent to get the research summary\n",
        "news_summary = agent.invoke(messages)\n",
        "\n",
        "# If a summary is generated, send it to Telegram\n",
        "# if news_summary and news_summary.content:\n",
        "#     print(\"Generated News Summary:\")\n",
        "#     print(news_summary.content)\n",
        "    \n",
        "#     # Send the summary to Telegram\n",
        "#     telegram_tool = TelegramTool(\n",
        "#         bot_token=Telegram_Bot_Token, \n",
        "#         channel_id=Telegram_Channel_ID\n",
        "#     )\n",
        "    \n",
        "#     await telegram_tool.send_message(news_summary.content)\n",
        "\n",
        "# else:\n",
        "#     print(\"Failed to generate a summary.\")"
      ]
    },
    {
      "cell_type": "code",
      "execution_count": null,
      "metadata": {},
      "outputs": [
        {
          "data": {
            "text/html": [
              "<pre style=\"white-space:pre;overflow-x:auto;line-height:normal;font-family:Menlo,'DejaVu Sans Mono',consolas,'Courier New',monospace\"><span style=\"color: #000080; text-decoration-color: #000080\">INFO    </span> Invoking model<span style=\"color: #808000; text-decoration-color: #808000\">...</span>                                                                              <a href=\"file://c:\\Users\\mobin\\indoxagent\\indoxagent\\indoxagent\\agent\\agent.py\" target=\"_blank\"><span style=\"color: #7f7f7f; text-decoration-color: #7f7f7f\">agent.py</span></a><span style=\"color: #7f7f7f; text-decoration-color: #7f7f7f\">:</span><a href=\"file://c:\\Users\\mobin\\indoxagent\\indoxagent\\indoxagent\\agent\\agent.py#39\" target=\"_blank\"><span style=\"color: #7f7f7f; text-decoration-color: #7f7f7f\">39</span></a>\n",
              "</pre>\n"
            ],
            "text/plain": [
              "\u001b[34mINFO    \u001b[0m Invoking model\u001b[33m...\u001b[0m                                                                              \u001b]8;id=266507;file://c:\\Users\\mobin\\indoxagent\\indoxagent\\indoxagent\\agent\\agent.py\u001b\\\u001b[2magent.py\u001b[0m\u001b]8;;\u001b\\\u001b[2m:\u001b[0m\u001b]8;id=811388;file://c:\\Users\\mobin\\indoxagent\\indoxagent\\indoxagent\\agent\\agent.py#39\u001b\\\u001b[2m39\u001b[0m\u001b]8;;\u001b\\\n"
            ]
          },
          "metadata": {},
          "output_type": "display_data"
        }
      ],
      "source": [
        "import schedule\n",
        "import time\n",
        "import asyncio\n",
        "import nest_asyncio\n",
        "\n",
        "# Apply nest_asyncio to allow asyncio to run in the Jupyter environment\n",
        "nest_asyncio.apply()\n",
        "\n",
        "# Function to send the daily task message\n",
        "async def daily_task():\n",
        "    news_summary = agent.invoke(messages)\n",
        "    if news_summary and news_summary.content:\n",
        "        await telegram_tool.send_message(news_summary.content)\n",
        "\n",
        "# Function to run the scheduled tasks\n",
        "async def run_scheduled_tasks():\n",
        "    try:\n",
        "        while True:\n",
        "            schedule.run_pending()  # Check if there are pending tasks\n",
        "            await asyncio.sleep(60)  # Sleep asynchronously for a minute\n",
        "    except KeyboardInterrupt:\n",
        "        print(\"🔴 Stopped by user.\")\n",
        "\n",
        "# Schedule the task\n",
        "schedule.every().day.at(\"16:53\").do(lambda: asyncio.create_task(daily_task()))  # Schedule the daily task\n",
        "\n",
        "# Run the tasks asynchronously within the notebook's event loop\n",
        "await run_scheduled_tasks()\n"
      ]
    },
    {
      "cell_type": "code",
      "execution_count": 4,
      "metadata": {},
      "outputs": [
        {
          "name": "stdout",
          "output_type": "stream",
          "text": [
            "Current Time: 2025-03-17 13:38:54.395279\n"
          ]
        }
      ],
      "source": [
        "from datetime import datetime\n",
        "\n",
        "# Get the current date and time\n",
        "current_time = datetime.now()\n",
        "\n",
        "# Print the current time\n",
        "print(\"Current Time:\", current_time)"
      ]
    }
  ],
  "metadata": {
    "colab": {
      "provenance": []
    },
    "kernelspec": {
      "display_name": "Python 3",
      "name": "python3"
    },
    "language_info": {
      "codemirror_mode": {
        "name": "ipython",
        "version": 3
      },
      "file_extension": ".py",
      "mimetype": "text/x-python",
      "name": "python",
      "nbconvert_exporter": "python",
      "pygments_lexer": "ipython3",
      "version": "3.12.3"
    }
  },
  "nbformat": 4,
  "nbformat_minor": 0
}
