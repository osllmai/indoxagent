{
 "cells": [
  {
   "cell_type": "code",
   "execution_count": 1,
   "metadata": {},
   "outputs": [
    {
     "name": "stdout",
     "output_type": "stream",
     "text": [
      "c:\\My Files\\Sprint2\\indoxagent\n"
     ]
    }
   ],
   "source": [
    "import os\n",
    "import sys\n",
    " \n",
    "# For Jupyter notebooks or interactive environments where __file__ is not defined\n",
    "try:\n",
    "    # Try to use __file__ if available\n",
    "    directory = os.path.dirname(os.path.abspath(__file__))\n",
    "except NameError:\n",
    "    # If __file__ is not defined (e.g., in Jupyter), use the current working directory\n",
    "    directory = os.path.abspath('')\n",
    "   \n",
    "sys.path.append(os.path.dirname(directory))\n",
    "print(os.path.dirname(directory))"
   ]
  },
  {
   "cell_type": "code",
   "execution_count": 2,
   "metadata": {},
   "outputs": [],
   "source": [
    "from dotenv import load_dotenv\n",
    "import os\n",
    "\n",
    "# Load environment variables from api.env\n",
    "load_dotenv(\"api.env\")\n",
    "\n",
    "# Access the API keys\n",
    "OPENAI_API_KEY = os.getenv(\"OPENAI_API_KEY\")\n",
    "EXA_API_KEY = os.getenv(\"EXA_API_KEY\")"
   ]
  },
  {
   "cell_type": "code",
   "execution_count": 5,
   "metadata": {},
   "outputs": [
    {
     "data": {
      "text/html": [
       "<pre style=\"white-space:pre;overflow-x:auto;line-height:normal;font-family:Menlo,'DejaVu Sans Mono',consolas,'Courier New',monospace\"><span style=\"color: #000080; text-decoration-color: #000080\">INFO    </span> Initializing Agent with tools: <span style=\"font-weight: bold\">[</span><span style=\"color: #008000; text-decoration-color: #008000\">'ExaTool'</span><span style=\"font-weight: bold\">]</span>                                                     <span style=\"color: #7f7f7f; text-decoration-color: #7f7f7f\">agent.py:18</span>\n",
       "</pre>\n"
      ],
      "text/plain": [
       "\u001b[34mINFO    \u001b[0m Initializing Agent with tools: \u001b[1m[\u001b[0m\u001b[32m'ExaTool'\u001b[0m\u001b[1m]\u001b[0m                                                     \u001b[2magent.py\u001b[0m\u001b[2m:\u001b[0m\u001b[2m18\u001b[0m\n"
      ]
     },
     "metadata": {},
     "output_type": "display_data"
    },
    {
     "data": {
      "text/html": [
       "<pre style=\"white-space:pre;overflow-x:auto;line-height:normal;font-family:Menlo,'DejaVu Sans Mono',consolas,'Courier New',monospace\"><span style=\"color: #000080; text-decoration-color: #000080\">INFO    </span> Tool Registry: <span style=\"font-weight: bold\">[</span><span style=\"color: #008000; text-decoration-color: #008000\">'search_exa'</span><span style=\"font-weight: bold\">]</span>                                                                  <span style=\"color: #7f7f7f; text-decoration-color: #7f7f7f\">agent.py:27</span>\n",
       "</pre>\n"
      ],
      "text/plain": [
       "\u001b[34mINFO    \u001b[0m Tool Registry: \u001b[1m[\u001b[0m\u001b[32m'search_exa'\u001b[0m\u001b[1m]\u001b[0m                                                                  \u001b[2magent.py\u001b[0m\u001b[2m:\u001b[0m\u001b[2m27\u001b[0m\n"
      ]
     },
     "metadata": {},
     "output_type": "display_data"
    },
    {
     "data": {
      "text/html": [
       "<pre style=\"white-space:pre;overflow-x:auto;line-height:normal;font-family:Menlo,'DejaVu Sans Mono',consolas,'Courier New',monospace\"><span style=\"color: #000080; text-decoration-color: #000080\">INFO    </span> Invoking model<span style=\"color: #808000; text-decoration-color: #808000\">...</span>                                                                              <span style=\"color: #7f7f7f; text-decoration-color: #7f7f7f\">agent.py:39</span>\n",
       "</pre>\n"
      ],
      "text/plain": [
       "\u001b[34mINFO    \u001b[0m Invoking model\u001b[33m...\u001b[0m                                                                              \u001b[2magent.py\u001b[0m\u001b[2m:\u001b[0m\u001b[2m39\u001b[0m\n"
      ]
     },
     "metadata": {},
     "output_type": "display_data"
    },
    {
     "name": "stdout",
     "output_type": "stream",
     "text": [
      "Certainly! Both \"Anxious People\" by Fredrik Backman and \"Lessons in Chemistry\" by Bonnie Garmus share themes of unique character ensembles and a blend of depth with humor. Let me provide you with some recommendations that capture similar vibes, heartwarming narratives, and engaging character dynamics. Here's what I suggest:\n",
      "\n",
      "| Book Title | Author | Pub. Year | Genre | Rating | Page Count | Plot Summary | Content Advisories | Awards & Recognition |\n",
      "|------------|--------|-----------|-------|--------|------------|--------------|--------------------|----------------------|\n",
      "| **The Midnight Library** | Matt Haig | 2020 | Fiction, Fantasy 📚🔮 | 4.1 | 304 | Nora Seed finds herself in a library where she can experience different versions of her life, exploring what might have been. | Depression, suicide ideation | GoodReads Choice Nominee |\n",
      "| **The Authenticity Project** | Clare Pooley | 2020 | Contemporary, Feel-Good 📚💕 | 4.0 | 368 | A forgotten journal brings together six strangers, each seeking truth and connection within their lives. | Mental health issues | Indie Next Pick |\n",
      "| **This Time Tomorrow** | Emma Straub | 2022 | Fiction, Time Travel 🔮 | 4.0 | 320 | A woman revisits her past and her relationship with her father, reevaluating her life choices with both humor and heart. | Mild language | New York Times Bestseller |\n",
      "| **The One Hundred Years of Lenni and Margot** | Marianne Cronin | 2021 | Fiction, Emotional 📚💕 | 4.3 | 352 | Lenni and Margot, two hospital patients, form an unexpected friendship across generational divides, celebrating life’s joys and sorrows. | Terminal illness | Notable Book of the Year by The New York Times |\n",
      "| **Oona Out of Order** | Margarita Montimore | 2020 | Fiction, Time-Travel 🔮 | 4.1 | 336 | Oona skips to different years of her life each New Year, discovering her future and past selves in unexpected ways. | Alcohol use | New York Times Bestseller |\n",
      "\n",
      "### Explanation of Recommendations:\n",
      "\n",
      "1. **The Midnight Library** by Matt Haig:\n",
      "   This book beautifully blends existential themes with enchanting storytelling—a hallmark of Backman’s style—in a heartwarming narrative about second chances and life’s infinite possibilities.\n",
      "\n",
      "2. **The Authenticity Project** by Clare Pooley:\n",
      "   Similar to both Backman's and Garmus's works, Pooley’s novel centers on an ensemble cast, each dealing with personal struggles and secrets, ultimately finding hope and connection in unexpected places.\n",
      "\n",
      "3. **This Time Tomorrow** by Emma Straub:\n",
      "   Like \"Lessons in Chemistry,\" Straub offers a narrative exploring family ties and self-discovery, enhanced by a time-bending twist that adds depth and a thought-provoking element to the story.\n",
      "\n",
      "4. **The One Hundred Years of Lenni and Margot** by Marianne Cronin:\n",
      "   For those who enjoyed the poignant interplay of character and circumstances in \"Anxious People,\" this novel’s exploration of friendship and meaningful connections across ages will resonate deeply.\n",
      "\n",
      "5. **Oona Out of Order** by Margarita Montimore:\n",
      "   This book captures the whimsy and complexity of time, much like \"This Time Tomorrow.\" It balances humor and warm life reflections, akin to \"Anxious People.\"\n",
      "\n",
      "I hope these recommendations guide you to your next great read! Each offers a unique journey through life's challenges that's heartfelt, humorous, and beautifully written. Enjoy your reading! 📚✨\n"
     ]
    }
   ],
   "source": [
    "from textwrap import dedent\n",
    "from indoxagent.agent.agent import Agent\n",
    "from indoxagent.models.openai import OpenAI\n",
    "from indoxagent.tools.exa import ExaTool\n",
    "\n",
    "# Initialize the book recommendation agent\n",
    "book_recommendation_agent = Agent(\n",
    "    model=OpenAI(api_key=OPENAI_API_KEY, model_id=\"gpt-4o\"),\n",
    "    tools=[ExaTool(api_key=EXA_API_KEY)],\n",
    ")\n",
    "\n",
    "# Define the system instructions\n",
    "system_description = dedent(\"\"\"\n",
    "    You are Shelfie, a passionate and knowledgeable literary curator with expertise in books worldwide! 📚\n",
    "\n",
    "    Your mission is to help readers discover their next favorite books by providing detailed,\n",
    "    personalized recommendations based on their preferences, reading history, and the latest\n",
    "    in literature. You combine deep literary knowledge with current ratings and reviews to suggest\n",
    "    books that will truly resonate with each reader.\n",
    "\"\"\")\n",
    "\n",
    "system_instructions = dedent(\"\"\"\n",
    "    Approach each recommendation with these steps:\n",
    "\n",
    "    1. **Analysis Phase 📖**\n",
    "       - Understand reader preferences from their input\n",
    "       - Consider mentioned favorite books' themes and styles\n",
    "       - Factor in any specific requirements (genre, length, content warnings)\n",
    "\n",
    "    2. **Search & Curate 🔍**\n",
    "       - Use Exa to search for relevant books\n",
    "       - Ensure diversity in recommendations\n",
    "       - Verify all book data is current and accurate\n",
    "\n",
    "    3. **Detailed Information 📝**\n",
    "       - Book title and author\n",
    "       - Publication year\n",
    "       - Genre and subgenres\n",
    "       - Goodreads/StoryGraph rating\n",
    "       - Page count\n",
    "       - Brief, engaging plot summary\n",
    "       - Content advisories\n",
    "       - Awards and recognition\n",
    "\n",
    "    4. **Extra Features ✨**\n",
    "       - Include series information if applicable\n",
    "       - Suggest similar authors\n",
    "       - Mention audiobook availability\n",
    "       - Note any upcoming adaptations\n",
    "\n",
    "    **Presentation Style:**\n",
    "    - Use clear markdown formatting\n",
    "    - Present main recommendations in a structured table\n",
    "    - Group similar books together\n",
    "    - Add emoji indicators for genres (📚 🔮 💕 🔪)\n",
    "    - Minimum 5 recommendations per query\n",
    "    - Include a brief explanation for each recommendation\n",
    "    - Highlight diversity in authors and perspectives\n",
    "    - Note trigger warnings when relevant\n",
    "\"\"\")\n",
    "\n",
    "# Example usage\n",
    "query = \"I really enjoyed 'Anxious People' and 'Lessons in Chemistry', can you suggest similar books?\"\n",
    "messages = [\n",
    "    {\"role\": \"system\", \"content\": system_description},\n",
    "    {\"role\": \"system\", \"content\": system_instructions},\n",
    "    {\"role\": \"user\", \"content\": query}\n",
    "]\n",
    "\n",
    "response = book_recommendation_agent.invoke(messages)\n",
    "print(response.content)\n"
   ]
  }
 ],
 "metadata": {
  "kernelspec": {
   "display_name": ".venv",
   "language": "python",
   "name": "python3"
  },
  "language_info": {
   "codemirror_mode": {
    "name": "ipython",
    "version": 3
   },
   "file_extension": ".py",
   "mimetype": "text/x-python",
   "name": "python",
   "nbconvert_exporter": "python",
   "pygments_lexer": "ipython3",
   "version": "3.12.3"
  }
 },
 "nbformat": 4,
 "nbformat_minor": 2
}
